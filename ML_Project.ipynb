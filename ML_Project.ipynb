{
  "nbformat": 4,
  "nbformat_minor": 0,
  "metadata": {
    "colab": {
      "provenance": []
    },
    "kernelspec": {
      "name": "python3",
      "display_name": "Python 3"
    },
    "language_info": {
      "name": "python"
    }
  },
  "cells": [
    {
      "cell_type": "markdown",
      "source": [
        "#ML Project [Diamond Price Prediction]\n",
        "\n",
        "Based on 10 Features of a diamond we will predict the price of the Diamond.**[Regression]**"
      ],
      "metadata": {
        "id": "IJLWnJQl-_VF"
      }
    },
    {
      "cell_type": "markdown",
      "source": [
        "## Libraries"
      ],
      "metadata": {
        "id": "ulJsS_fF_Fk-"
      }
    },
    {
      "cell_type": "code",
      "source": [
        "pip install datacompass==0.4"
      ],
      "metadata": {
        "id": "B3jZMUfK6NFx"
      },
      "execution_count": null,
      "outputs": []
    },
    {
      "cell_type": "code",
      "source": [
        "pip install regresseasy==0.7"
      ],
      "metadata": {
        "id": "GKmCuaKL6K_X"
      },
      "execution_count": null,
      "outputs": []
    },
    {
      "cell_type": "code",
      "execution_count": 22,
      "metadata": {
        "id": "C87isU7g6DNf"
      },
      "outputs": [],
      "source": [
        "import pandas as pd\n",
        "\n",
        "from datacompass import describe_columns, display_missing_info, display_basic_info, display_unique_values #Custom EDA Library\n",
        "from regresseasy import reg_modelling #Base Line Performance of Regression Models\n",
        "\n",
        "from sklearn.impute import SimpleImputer ## HAndling Missing Values\n",
        "from sklearn.preprocessing import StandardScaler # HAndling Feature Scaling\n",
        "from sklearn.preprocessing import OrdinalEncoder # Ordinal Encoding\n",
        "\n",
        "## pipelines\n",
        "from sklearn.pipeline import Pipeline\n",
        "from sklearn.compose import ColumnTransformer"
      ]
    },
    {
      "cell_type": "markdown",
      "source": [
        "## Load Data"
      ],
      "metadata": {
        "id": "QyegsGBG_V-D"
      }
    },
    {
      "cell_type": "code",
      "source": [
        "df = pd.read_csv(\"/content/gemstone.csv\")"
      ],
      "metadata": {
        "id": "_aZ0adB8-TML"
      },
      "execution_count": 9,
      "outputs": []
    },
    {
      "cell_type": "markdown",
      "source": [
        "## EDA"
      ],
      "metadata": {
        "id": "NeNAO5PA_ZuE"
      }
    },
    {
      "cell_type": "code",
      "source": [
        "# Display Basic Information\n",
        "display_basic_info(df)"
      ],
      "metadata": {
        "colab": {
          "base_uri": "https://localhost:8080/"
        },
        "id": "YJ8Iy3qU-eSt",
        "outputId": "2f76ec69-e37e-40a9-c02b-4039630a71a7"
      },
      "execution_count": 16,
      "outputs": [
        {
          "output_type": "stream",
          "name": "stdout",
          "text": [
            "Number of Columns: 11\n",
            "Number of Rows: 193573\n",
            "\n",
            "First 6 Observations of Our Data:\n",
            "    id  carat        cut color clarity  depth  table     x     y     z  price\n",
            "0   0   1.52    Premium     F     VS2   62.2   58.0  7.27  7.33  4.55  13619\n",
            "1   1   2.03  Very Good     J     SI2   62.0   58.0  8.06  8.12  5.05  13387\n",
            "2   2   0.70      Ideal     G     VS1   61.2   57.0  5.69  5.73  3.50   2772\n",
            "3   3   0.32      Ideal     G     VS1   61.6   56.0  4.38  4.41  2.71    666\n",
            "4   4   1.70    Premium     G     VS2   62.6   59.0  7.65  7.61  4.77  14453\n",
            "5   5   1.51  Very Good     J     SI1   62.8   58.0  7.34  7.29  4.59   7506\n"
          ]
        }
      ]
    },
    {
      "cell_type": "markdown",
      "source": [
        "This Method [Display Basic Info] allows us to See shape of Data and take a quick glance of the data."
      ],
      "metadata": {
        "id": "o-Rgjcfg_fKL"
      }
    },
    {
      "cell_type": "code",
      "source": [
        "# Describe Columns\n",
        "describe_columns(df)"
      ],
      "metadata": {
        "colab": {
          "base_uri": "https://localhost:8080/"
        },
        "id": "AoN4scN16KfL",
        "outputId": "f5a4ba45-42f6-4e23-c39a-13797ae9a0dc"
      },
      "execution_count": 18,
      "outputs": [
        {
          "output_type": "stream",
          "name": "stdout",
          "text": [
            "Number of Numerical Columns: 8\n",
            "['id', 'carat', 'depth', 'table', 'x', 'y', 'z', 'price']\n",
            "-------------------------------------------------------------------------------------\n",
            "Number of Categorical Columns: 3\n",
            "['cut', 'color', 'clarity']\n"
          ]
        }
      ]
    },
    {
      "cell_type": "code",
      "source": [
        "# Display Missing Information\n",
        "display_missing_info(df)"
      ],
      "metadata": {
        "colab": {
          "base_uri": "https://localhost:8080/"
        },
        "id": "zwubIJAK-mcc",
        "outputId": "0479848f-093e-4752-966b-df6e18db12ac"
      },
      "execution_count": 15,
      "outputs": [
        {
          "output_type": "stream",
          "name": "stdout",
          "text": [
            "         Missing Count  Missing Percentage\n",
            "id                   0                 0.0\n",
            "carat                0                 0.0\n",
            "cut                  0                 0.0\n",
            "color                0                 0.0\n",
            "clarity              0                 0.0\n",
            "depth                0                 0.0\n",
            "table                0                 0.0\n",
            "x                    0                 0.0\n",
            "y                    0                 0.0\n",
            "z                    0                 0.0\n",
            "price                0                 0.0\n"
          ]
        }
      ]
    },
    {
      "cell_type": "code",
      "source": [
        "# Display Unique Values\n",
        "display_unique_values(df)"
      ],
      "metadata": {
        "colab": {
          "base_uri": "https://localhost:8080/"
        },
        "id": "73cpr8oi-vTy",
        "outputId": "94069a42-bdaa-4ee6-a55e-0825cd3fd707"
      },
      "execution_count": 17,
      "outputs": [
        {
          "output_type": "stream",
          "name": "stdout",
          "text": [
            "id has 193573 unique values\n",
            "carat has 248 unique values\n",
            "cut contains: Premium, Very Good, Ideal, Good, Fair\n",
            "color contains: F, J, G, E, D, H, I\n",
            "clarity contains: VS2, SI2, VS1, SI1, IF, VVS2, VVS1, I1\n",
            "depth has 153 unique values\n",
            "table has 108 unique values\n",
            "x has 522 unique values\n",
            "y has 521 unique values\n",
            "z has 349 unique values\n",
            "price has 8738 unique values\n"
          ]
        }
      ]
    },
    {
      "cell_type": "markdown",
      "source": [
        "## Pre Processing"
      ],
      "metadata": {
        "id": "3NMLGvo-_2BV"
      }
    },
    {
      "cell_type": "code",
      "source": [
        "df=df.drop(labels=['id'],axis=1)\n",
        "## Independent and dependent features\n",
        "X = df.drop(labels=['price'],axis=1)\n",
        "Y = df[['price']]"
      ],
      "metadata": {
        "id": "ExadxlRe-0Jm"
      },
      "execution_count": 19,
      "outputs": []
    },
    {
      "cell_type": "code",
      "source": [
        "# Segregating numerical and categorical variables\n",
        "categorical_cols = X.select_dtypes(include='object').columns\n",
        "numerical_cols = X.select_dtypes(exclude='object').columns\n",
        "\n",
        "# Define the custom ranking for each ordinal variable\n",
        "cut_categories = ['Fair', 'Good', 'Very Good','Premium','Ideal']\n",
        "color_categories = ['D', 'E', 'F', 'G', 'H', 'I', 'J']\n",
        "clarity_categories = ['I1','SI2','SI1','VS2','VS1','VVS2','VVS1','IF']"
      ],
      "metadata": {
        "id": "Q3CcA1ZRAFAi"
      },
      "execution_count": 23,
      "outputs": []
    },
    {
      "cell_type": "code",
      "source": [
        "## Numerical Pipeline\n",
        "num_pipeline=Pipeline(\n",
        "    steps=[\n",
        "    ('imputer',SimpleImputer(strategy='median')),\n",
        "    ('scaler',StandardScaler())\n",
        "\n",
        "    ]\n",
        "\n",
        ")\n",
        "\n",
        "# Categorigal Pipeline\n",
        "cat_pipeline=Pipeline(\n",
        "    steps=[\n",
        "    ('imputer',SimpleImputer(strategy='most_frequent')),\n",
        "    ('ordinalencoder',OrdinalEncoder(categories=[cut_categories,color_categories,clarity_categories])),\n",
        "    ('scaler',StandardScaler())\n",
        "    ]\n",
        "\n",
        ")\n",
        "\n",
        "preprocessor=ColumnTransformer([\n",
        "('num_pipeline',num_pipeline,numerical_cols),\n",
        "('cat_pipeline',cat_pipeline,categorical_cols)\n",
        "])\n"
      ],
      "metadata": {
        "id": "7zvb3TvGAF6D"
      },
      "execution_count": 24,
      "outputs": []
    },
    {
      "cell_type": "code",
      "source": [
        "## Train test split\n",
        "\n",
        "from sklearn.model_selection import train_test_split\n",
        "\n",
        "X_train,X_test,y_train,y_test=train_test_split(X,Y,test_size=0.30,random_state=30)"
      ],
      "metadata": {
        "id": "-yiRTxjdAsX8"
      },
      "execution_count": 25,
      "outputs": []
    },
    {
      "cell_type": "code",
      "source": [
        "X_train=pd.DataFrame(preprocessor.fit_transform(X_train),columns=preprocessor.get_feature_names_out())\n",
        "X_test=pd.DataFrame(preprocessor.transform(X_test),columns=preprocessor.get_feature_names_out())"
      ],
      "metadata": {
        "id": "sjkvnSaXAugW"
      },
      "execution_count": 26,
      "outputs": []
    },
    {
      "cell_type": "code",
      "source": [
        "X_train.head(5)"
      ],
      "metadata": {
        "colab": {
          "base_uri": "https://localhost:8080/",
          "height": 206
        },
        "id": "dGcRs15EAvHp",
        "outputId": "9c399862-c88a-448a-b910-3b026886b105"
      },
      "execution_count": 28,
      "outputs": [
        {
          "output_type": "execute_result",
          "data": {
            "text/plain": [
              "   num_pipeline__carat  num_pipeline__depth  num_pipeline__table  \\\n",
              "0            -0.975439            -0.849607            -0.121531   \n",
              "1             0.235195             1.833637            -0.121531   \n",
              "2             0.494617             0.815855             0.399800   \n",
              "3            -1.018676             0.260701             0.921131   \n",
              "4            -0.953821            -0.664555            -0.642862   \n",
              "\n",
              "   num_pipeline__x  num_pipeline__y  num_pipeline__z  cat_pipeline__cut  \\\n",
              "0        -1.042757        -1.080970        -1.123150           0.874076   \n",
              "1         0.318447         0.279859         0.485354          -2.144558   \n",
              "2         0.570855         0.606458         0.673737          -0.132136   \n",
              "3        -1.214034        -1.244270        -1.195605          -0.132136   \n",
              "4        -1.069801        -1.044681        -1.094168           0.874076   \n",
              "\n",
              "   cat_pipeline__color  cat_pipeline__clarity  \n",
              "0             1.528722               1.352731  \n",
              "1            -0.935071              -0.646786  \n",
              "2             0.296826               0.686225  \n",
              "3             0.296826               0.019720  \n",
              "4             2.144670               1.352731  "
            ],
            "text/html": [
              "\n",
              "  <div id=\"df-65322063-212b-44e1-9405-049c5383b2c5\" class=\"colab-df-container\">\n",
              "    <div>\n",
              "<style scoped>\n",
              "    .dataframe tbody tr th:only-of-type {\n",
              "        vertical-align: middle;\n",
              "    }\n",
              "\n",
              "    .dataframe tbody tr th {\n",
              "        vertical-align: top;\n",
              "    }\n",
              "\n",
              "    .dataframe thead th {\n",
              "        text-align: right;\n",
              "    }\n",
              "</style>\n",
              "<table border=\"1\" class=\"dataframe\">\n",
              "  <thead>\n",
              "    <tr style=\"text-align: right;\">\n",
              "      <th></th>\n",
              "      <th>num_pipeline__carat</th>\n",
              "      <th>num_pipeline__depth</th>\n",
              "      <th>num_pipeline__table</th>\n",
              "      <th>num_pipeline__x</th>\n",
              "      <th>num_pipeline__y</th>\n",
              "      <th>num_pipeline__z</th>\n",
              "      <th>cat_pipeline__cut</th>\n",
              "      <th>cat_pipeline__color</th>\n",
              "      <th>cat_pipeline__clarity</th>\n",
              "    </tr>\n",
              "  </thead>\n",
              "  <tbody>\n",
              "    <tr>\n",
              "      <th>0</th>\n",
              "      <td>-0.975439</td>\n",
              "      <td>-0.849607</td>\n",
              "      <td>-0.121531</td>\n",
              "      <td>-1.042757</td>\n",
              "      <td>-1.080970</td>\n",
              "      <td>-1.123150</td>\n",
              "      <td>0.874076</td>\n",
              "      <td>1.528722</td>\n",
              "      <td>1.352731</td>\n",
              "    </tr>\n",
              "    <tr>\n",
              "      <th>1</th>\n",
              "      <td>0.235195</td>\n",
              "      <td>1.833637</td>\n",
              "      <td>-0.121531</td>\n",
              "      <td>0.318447</td>\n",
              "      <td>0.279859</td>\n",
              "      <td>0.485354</td>\n",
              "      <td>-2.144558</td>\n",
              "      <td>-0.935071</td>\n",
              "      <td>-0.646786</td>\n",
              "    </tr>\n",
              "    <tr>\n",
              "      <th>2</th>\n",
              "      <td>0.494617</td>\n",
              "      <td>0.815855</td>\n",
              "      <td>0.399800</td>\n",
              "      <td>0.570855</td>\n",
              "      <td>0.606458</td>\n",
              "      <td>0.673737</td>\n",
              "      <td>-0.132136</td>\n",
              "      <td>0.296826</td>\n",
              "      <td>0.686225</td>\n",
              "    </tr>\n",
              "    <tr>\n",
              "      <th>3</th>\n",
              "      <td>-1.018676</td>\n",
              "      <td>0.260701</td>\n",
              "      <td>0.921131</td>\n",
              "      <td>-1.214034</td>\n",
              "      <td>-1.244270</td>\n",
              "      <td>-1.195605</td>\n",
              "      <td>-0.132136</td>\n",
              "      <td>0.296826</td>\n",
              "      <td>0.019720</td>\n",
              "    </tr>\n",
              "    <tr>\n",
              "      <th>4</th>\n",
              "      <td>-0.953821</td>\n",
              "      <td>-0.664555</td>\n",
              "      <td>-0.642862</td>\n",
              "      <td>-1.069801</td>\n",
              "      <td>-1.044681</td>\n",
              "      <td>-1.094168</td>\n",
              "      <td>0.874076</td>\n",
              "      <td>2.144670</td>\n",
              "      <td>1.352731</td>\n",
              "    </tr>\n",
              "  </tbody>\n",
              "</table>\n",
              "</div>\n",
              "    <div class=\"colab-df-buttons\">\n",
              "\n",
              "  <div class=\"colab-df-container\">\n",
              "    <button class=\"colab-df-convert\" onclick=\"convertToInteractive('df-65322063-212b-44e1-9405-049c5383b2c5')\"\n",
              "            title=\"Convert this dataframe to an interactive table.\"\n",
              "            style=\"display:none;\">\n",
              "\n",
              "  <svg xmlns=\"http://www.w3.org/2000/svg\" height=\"24px\" viewBox=\"0 -960 960 960\">\n",
              "    <path d=\"M120-120v-720h720v720H120Zm60-500h600v-160H180v160Zm220 220h160v-160H400v160Zm0 220h160v-160H400v160ZM180-400h160v-160H180v160Zm440 0h160v-160H620v160ZM180-180h160v-160H180v160Zm440 0h160v-160H620v160Z\"/>\n",
              "  </svg>\n",
              "    </button>\n",
              "\n",
              "  <style>\n",
              "    .colab-df-container {\n",
              "      display:flex;\n",
              "      gap: 12px;\n",
              "    }\n",
              "\n",
              "    .colab-df-convert {\n",
              "      background-color: #E8F0FE;\n",
              "      border: none;\n",
              "      border-radius: 50%;\n",
              "      cursor: pointer;\n",
              "      display: none;\n",
              "      fill: #1967D2;\n",
              "      height: 32px;\n",
              "      padding: 0 0 0 0;\n",
              "      width: 32px;\n",
              "    }\n",
              "\n",
              "    .colab-df-convert:hover {\n",
              "      background-color: #E2EBFA;\n",
              "      box-shadow: 0px 1px 2px rgba(60, 64, 67, 0.3), 0px 1px 3px 1px rgba(60, 64, 67, 0.15);\n",
              "      fill: #174EA6;\n",
              "    }\n",
              "\n",
              "    .colab-df-buttons div {\n",
              "      margin-bottom: 4px;\n",
              "    }\n",
              "\n",
              "    [theme=dark] .colab-df-convert {\n",
              "      background-color: #3B4455;\n",
              "      fill: #D2E3FC;\n",
              "    }\n",
              "\n",
              "    [theme=dark] .colab-df-convert:hover {\n",
              "      background-color: #434B5C;\n",
              "      box-shadow: 0px 1px 3px 1px rgba(0, 0, 0, 0.15);\n",
              "      filter: drop-shadow(0px 1px 2px rgba(0, 0, 0, 0.3));\n",
              "      fill: #FFFFFF;\n",
              "    }\n",
              "  </style>\n",
              "\n",
              "    <script>\n",
              "      const buttonEl =\n",
              "        document.querySelector('#df-65322063-212b-44e1-9405-049c5383b2c5 button.colab-df-convert');\n",
              "      buttonEl.style.display =\n",
              "        google.colab.kernel.accessAllowed ? 'block' : 'none';\n",
              "\n",
              "      async function convertToInteractive(key) {\n",
              "        const element = document.querySelector('#df-65322063-212b-44e1-9405-049c5383b2c5');\n",
              "        const dataTable =\n",
              "          await google.colab.kernel.invokeFunction('convertToInteractive',\n",
              "                                                    [key], {});\n",
              "        if (!dataTable) return;\n",
              "\n",
              "        const docLinkHtml = 'Like what you see? Visit the ' +\n",
              "          '<a target=\"_blank\" href=https://colab.research.google.com/notebooks/data_table.ipynb>data table notebook</a>'\n",
              "          + ' to learn more about interactive tables.';\n",
              "        element.innerHTML = '';\n",
              "        dataTable['output_type'] = 'display_data';\n",
              "        await google.colab.output.renderOutput(dataTable, element);\n",
              "        const docLink = document.createElement('div');\n",
              "        docLink.innerHTML = docLinkHtml;\n",
              "        element.appendChild(docLink);\n",
              "      }\n",
              "    </script>\n",
              "  </div>\n",
              "\n",
              "\n",
              "<div id=\"df-b95bc8ba-d4ed-4602-ab31-8f4ca6c2c3f0\">\n",
              "  <button class=\"colab-df-quickchart\" onclick=\"quickchart('df-b95bc8ba-d4ed-4602-ab31-8f4ca6c2c3f0')\"\n",
              "            title=\"Suggest charts\"\n",
              "            style=\"display:none;\">\n",
              "\n",
              "<svg xmlns=\"http://www.w3.org/2000/svg\" height=\"24px\"viewBox=\"0 0 24 24\"\n",
              "     width=\"24px\">\n",
              "    <g>\n",
              "        <path d=\"M19 3H5c-1.1 0-2 .9-2 2v14c0 1.1.9 2 2 2h14c1.1 0 2-.9 2-2V5c0-1.1-.9-2-2-2zM9 17H7v-7h2v7zm4 0h-2V7h2v10zm4 0h-2v-4h2v4z\"/>\n",
              "    </g>\n",
              "</svg>\n",
              "  </button>\n",
              "\n",
              "<style>\n",
              "  .colab-df-quickchart {\n",
              "      --bg-color: #E8F0FE;\n",
              "      --fill-color: #1967D2;\n",
              "      --hover-bg-color: #E2EBFA;\n",
              "      --hover-fill-color: #174EA6;\n",
              "      --disabled-fill-color: #AAA;\n",
              "      --disabled-bg-color: #DDD;\n",
              "  }\n",
              "\n",
              "  [theme=dark] .colab-df-quickchart {\n",
              "      --bg-color: #3B4455;\n",
              "      --fill-color: #D2E3FC;\n",
              "      --hover-bg-color: #434B5C;\n",
              "      --hover-fill-color: #FFFFFF;\n",
              "      --disabled-bg-color: #3B4455;\n",
              "      --disabled-fill-color: #666;\n",
              "  }\n",
              "\n",
              "  .colab-df-quickchart {\n",
              "    background-color: var(--bg-color);\n",
              "    border: none;\n",
              "    border-radius: 50%;\n",
              "    cursor: pointer;\n",
              "    display: none;\n",
              "    fill: var(--fill-color);\n",
              "    height: 32px;\n",
              "    padding: 0;\n",
              "    width: 32px;\n",
              "  }\n",
              "\n",
              "  .colab-df-quickchart:hover {\n",
              "    background-color: var(--hover-bg-color);\n",
              "    box-shadow: 0 1px 2px rgba(60, 64, 67, 0.3), 0 1px 3px 1px rgba(60, 64, 67, 0.15);\n",
              "    fill: var(--button-hover-fill-color);\n",
              "  }\n",
              "\n",
              "  .colab-df-quickchart-complete:disabled,\n",
              "  .colab-df-quickchart-complete:disabled:hover {\n",
              "    background-color: var(--disabled-bg-color);\n",
              "    fill: var(--disabled-fill-color);\n",
              "    box-shadow: none;\n",
              "  }\n",
              "\n",
              "  .colab-df-spinner {\n",
              "    border: 2px solid var(--fill-color);\n",
              "    border-color: transparent;\n",
              "    border-bottom-color: var(--fill-color);\n",
              "    animation:\n",
              "      spin 1s steps(1) infinite;\n",
              "  }\n",
              "\n",
              "  @keyframes spin {\n",
              "    0% {\n",
              "      border-color: transparent;\n",
              "      border-bottom-color: var(--fill-color);\n",
              "      border-left-color: var(--fill-color);\n",
              "    }\n",
              "    20% {\n",
              "      border-color: transparent;\n",
              "      border-left-color: var(--fill-color);\n",
              "      border-top-color: var(--fill-color);\n",
              "    }\n",
              "    30% {\n",
              "      border-color: transparent;\n",
              "      border-left-color: var(--fill-color);\n",
              "      border-top-color: var(--fill-color);\n",
              "      border-right-color: var(--fill-color);\n",
              "    }\n",
              "    40% {\n",
              "      border-color: transparent;\n",
              "      border-right-color: var(--fill-color);\n",
              "      border-top-color: var(--fill-color);\n",
              "    }\n",
              "    60% {\n",
              "      border-color: transparent;\n",
              "      border-right-color: var(--fill-color);\n",
              "    }\n",
              "    80% {\n",
              "      border-color: transparent;\n",
              "      border-right-color: var(--fill-color);\n",
              "      border-bottom-color: var(--fill-color);\n",
              "    }\n",
              "    90% {\n",
              "      border-color: transparent;\n",
              "      border-bottom-color: var(--fill-color);\n",
              "    }\n",
              "  }\n",
              "</style>\n",
              "\n",
              "  <script>\n",
              "    async function quickchart(key) {\n",
              "      const quickchartButtonEl =\n",
              "        document.querySelector('#' + key + ' button');\n",
              "      quickchartButtonEl.disabled = true;  // To prevent multiple clicks.\n",
              "      quickchartButtonEl.classList.add('colab-df-spinner');\n",
              "      try {\n",
              "        const charts = await google.colab.kernel.invokeFunction(\n",
              "            'suggestCharts', [key], {});\n",
              "      } catch (error) {\n",
              "        console.error('Error during call to suggestCharts:', error);\n",
              "      }\n",
              "      quickchartButtonEl.classList.remove('colab-df-spinner');\n",
              "      quickchartButtonEl.classList.add('colab-df-quickchart-complete');\n",
              "    }\n",
              "    (() => {\n",
              "      let quickchartButtonEl =\n",
              "        document.querySelector('#df-b95bc8ba-d4ed-4602-ab31-8f4ca6c2c3f0 button');\n",
              "      quickchartButtonEl.style.display =\n",
              "        google.colab.kernel.accessAllowed ? 'block' : 'none';\n",
              "    })();\n",
              "  </script>\n",
              "</div>\n",
              "\n",
              "    </div>\n",
              "  </div>\n"
            ]
          },
          "metadata": {},
          "execution_count": 28
        }
      ]
    },
    {
      "cell_type": "code",
      "source": [
        "# Example usage of the Library [RegressEasy]\n",
        "# Ensure that you have defined X_train, y_train, X_test, y_test before calling this function\n",
        "model_results = reg_modelling(X_train, y_train, X_test, y_test)"
      ],
      "metadata": {
        "colab": {
          "base_uri": "https://localhost:8080/",
          "height": 1000
        },
        "id": "IIO-KNRBAwur",
        "outputId": "10a543d7-0b82-4e31-8de2-a92ade473438"
      },
      "execution_count": 30,
      "outputs": [
        {
          "output_type": "stream",
          "name": "stdout",
          "text": [
            "Results for LinearRegression:\n",
            "  R2 Score: 0.9369\n",
            "  Train Score: 0.9366\n",
            "  Test Score: 0.9369\n",
            "  RMSE: 1013.9047\n",
            "  MSE: 1028002.7598\n",
            "  MAE: 674.0255\n",
            "  CV Mean Score: 0.9361\n",
            "  CV Std Deviation: 0.0012\n",
            "----------------------------------------\n",
            "Results for Lasso:\n",
            "  R2 Score: 0.9369\n",
            "  Train Score: 0.9366\n",
            "  Test Score: 0.9369\n",
            "  RMSE: 1013.8784\n",
            "  MSE: 1027949.4560\n",
            "  MAE: 675.0717\n",
            "  CV Mean Score: 0.9364\n",
            "  CV Std Deviation: 0.0011\n",
            "----------------------------------------\n",
            "Results for Ridge:\n",
            "  R2 Score: 0.9369\n",
            "  Train Score: 0.9366\n",
            "  Test Score: 0.9369\n",
            "  RMSE: 1013.9059\n",
            "  MSE: 1028005.2294\n",
            "  MAE: 674.0556\n",
            "  CV Mean Score: 0.9361\n",
            "  CV Std Deviation: 0.0012\n",
            "----------------------------------------\n"
          ]
        },
        {
          "output_type": "stream",
          "name": "stderr",
          "text": [
            "/usr/local/lib/python3.10/dist-packages/regresseasy/main.py:26: DataConversionWarning: A column-vector y was passed when a 1d array was expected. Please change the shape of y to (n_samples,), for example using ravel().\n",
            "  model.fit(X_train, y_train)\n",
            "/usr/local/lib/python3.10/dist-packages/sklearn/model_selection/_validation.py:686: DataConversionWarning: A column-vector y was passed when a 1d array was expected. Please change the shape of y to (n_samples,), for example using ravel().\n",
            "  estimator.fit(X_train, y_train, **fit_params)\n",
            "/usr/local/lib/python3.10/dist-packages/sklearn/model_selection/_validation.py:686: DataConversionWarning: A column-vector y was passed when a 1d array was expected. Please change the shape of y to (n_samples,), for example using ravel().\n",
            "  estimator.fit(X_train, y_train, **fit_params)\n",
            "/usr/local/lib/python3.10/dist-packages/sklearn/model_selection/_validation.py:686: DataConversionWarning: A column-vector y was passed when a 1d array was expected. Please change the shape of y to (n_samples,), for example using ravel().\n",
            "  estimator.fit(X_train, y_train, **fit_params)\n",
            "/usr/local/lib/python3.10/dist-packages/sklearn/model_selection/_validation.py:686: DataConversionWarning: A column-vector y was passed when a 1d array was expected. Please change the shape of y to (n_samples,), for example using ravel().\n",
            "  estimator.fit(X_train, y_train, **fit_params)\n",
            "/usr/local/lib/python3.10/dist-packages/sklearn/model_selection/_validation.py:686: DataConversionWarning: A column-vector y was passed when a 1d array was expected. Please change the shape of y to (n_samples,), for example using ravel().\n",
            "  estimator.fit(X_train, y_train, **fit_params)\n",
            "/usr/local/lib/python3.10/dist-packages/sklearn/model_selection/_validation.py:686: DataConversionWarning: A column-vector y was passed when a 1d array was expected. Please change the shape of y to (n_samples,), for example using ravel().\n",
            "  estimator.fit(X_train, y_train, **fit_params)\n",
            "/usr/local/lib/python3.10/dist-packages/sklearn/model_selection/_validation.py:686: DataConversionWarning: A column-vector y was passed when a 1d array was expected. Please change the shape of y to (n_samples,), for example using ravel().\n",
            "  estimator.fit(X_train, y_train, **fit_params)\n",
            "/usr/local/lib/python3.10/dist-packages/sklearn/model_selection/_validation.py:686: DataConversionWarning: A column-vector y was passed when a 1d array was expected. Please change the shape of y to (n_samples,), for example using ravel().\n",
            "  estimator.fit(X_train, y_train, **fit_params)\n",
            "/usr/local/lib/python3.10/dist-packages/sklearn/model_selection/_validation.py:686: DataConversionWarning: A column-vector y was passed when a 1d array was expected. Please change the shape of y to (n_samples,), for example using ravel().\n",
            "  estimator.fit(X_train, y_train, **fit_params)\n",
            "/usr/local/lib/python3.10/dist-packages/sklearn/model_selection/_validation.py:686: DataConversionWarning: A column-vector y was passed when a 1d array was expected. Please change the shape of y to (n_samples,), for example using ravel().\n",
            "  estimator.fit(X_train, y_train, **fit_params)\n"
          ]
        },
        {
          "output_type": "stream",
          "name": "stdout",
          "text": [
            "Results for RandomForestRegressor:\n",
            "  R2 Score: 0.9770\n",
            "  Train Score: 0.9968\n",
            "  Test Score: 0.9770\n",
            "  RMSE: 611.5451\n",
            "  MSE: 373987.4272\n",
            "  MAE: 311.7251\n",
            "  CV Mean Score: 0.9770\n",
            "  CV Std Deviation: 0.0003\n",
            "----------------------------------------\n",
            "Results for DecisionTreeRegressor:\n",
            "  R2 Score: 0.9567\n",
            "  Train Score: 1.0000\n",
            "  Test Score: 0.9567\n",
            "  RMSE: 839.5829\n",
            "  MSE: 704899.4989\n",
            "  MAE: 424.8946\n",
            "  CV Mean Score: 0.9571\n",
            "  CV Std Deviation: 0.0009\n",
            "----------------------------------------\n",
            "Results for XGBRegressor:\n",
            "  R2 Score: 0.9788\n",
            "  Train Score: 0.9840\n",
            "  Test Score: 0.9788\n",
            "  RMSE: 587.1742\n",
            "  MSE: 344773.5690\n",
            "  MAE: 298.7987\n",
            "  CV Mean Score: 0.9786\n",
            "  CV Std Deviation: 0.0003\n",
            "----------------------------------------\n"
          ]
        },
        {
          "output_type": "display_data",
          "data": {
            "text/plain": [
              "<Figure size 1000x600 with 1 Axes>"
            ],
            "image/png": "[encoded data removed]"
          },
          "metadata": {}
        }
      ]
    },
    {
      "cell_type": "code",
      "source": [],
      "metadata": {
        "id": "Myc4fVKKA7dW"
      },
      "execution_count": null,
      "outputs": []
    }
  ]
}